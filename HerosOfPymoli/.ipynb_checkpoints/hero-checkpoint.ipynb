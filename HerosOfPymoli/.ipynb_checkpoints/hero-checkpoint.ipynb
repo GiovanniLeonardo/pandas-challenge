{
 "cells": [
  {
   "cell_type": "code",
   "execution_count": 1,
   "metadata": {},
   "outputs": [],
   "source": [
    "import pandas as pd\n",
    "import numpy as np\n",
    "from IPython.display import HTML"
   ]
  },
  {
   "cell_type": "code",
   "execution_count": 2,
   "metadata": {
    "jupyter": {
     "source_hidden": true
    }
   },
   "outputs": [
    {
     "data": {
      "text/html": [
       "<style  type=\"text/css\" >\n",
       "    #T_0f20c682_7b97_11ea_9820_b46bfcdeb885  {\n",
       "          border: 4px solid #7a7;\n",
       "    }</style><table id=\"T_0f20c682_7b97_11ea_9820_b46bfcdeb885\" ><thead>    <tr>        <th class=\"blank level0\" ></th>        <th class=\"col_heading level0 col0\" >Purchase ID</th>        <th class=\"col_heading level0 col1\" >SN</th>        <th class=\"col_heading level0 col2\" >Age</th>        <th class=\"col_heading level0 col3\" >Gender</th>        <th class=\"col_heading level0 col4\" >Item ID</th>        <th class=\"col_heading level0 col5\" >Item Name</th>        <th class=\"col_heading level0 col6\" >Price</th>    </tr></thead><tbody>\n",
       "                <tr>\n",
       "                        <th id=\"T_0f20c682_7b97_11ea_9820_b46bfcdeb885level0_row0\" class=\"row_heading level0 row0\" >0</th>\n",
       "                        <td id=\"T_0f20c682_7b97_11ea_9820_b46bfcdeb885row0_col0\" class=\"data row0 col0\" >0</td>\n",
       "                        <td id=\"T_0f20c682_7b97_11ea_9820_b46bfcdeb885row0_col1\" class=\"data row0 col1\" >Lisim78</td>\n",
       "                        <td id=\"T_0f20c682_7b97_11ea_9820_b46bfcdeb885row0_col2\" class=\"data row0 col2\" >20</td>\n",
       "                        <td id=\"T_0f20c682_7b97_11ea_9820_b46bfcdeb885row0_col3\" class=\"data row0 col3\" >Male</td>\n",
       "                        <td id=\"T_0f20c682_7b97_11ea_9820_b46bfcdeb885row0_col4\" class=\"data row0 col4\" >108</td>\n",
       "                        <td id=\"T_0f20c682_7b97_11ea_9820_b46bfcdeb885row0_col5\" class=\"data row0 col5\" >Extraction, Quickblade Of Trembling Hands</td>\n",
       "                        <td id=\"T_0f20c682_7b97_11ea_9820_b46bfcdeb885row0_col6\" class=\"data row0 col6\" >3.530000</td>\n",
       "            </tr>\n",
       "            <tr>\n",
       "                        <th id=\"T_0f20c682_7b97_11ea_9820_b46bfcdeb885level0_row1\" class=\"row_heading level0 row1\" >1</th>\n",
       "                        <td id=\"T_0f20c682_7b97_11ea_9820_b46bfcdeb885row1_col0\" class=\"data row1 col0\" >1</td>\n",
       "                        <td id=\"T_0f20c682_7b97_11ea_9820_b46bfcdeb885row1_col1\" class=\"data row1 col1\" >Lisovynya38</td>\n",
       "                        <td id=\"T_0f20c682_7b97_11ea_9820_b46bfcdeb885row1_col2\" class=\"data row1 col2\" >40</td>\n",
       "                        <td id=\"T_0f20c682_7b97_11ea_9820_b46bfcdeb885row1_col3\" class=\"data row1 col3\" >Male</td>\n",
       "                        <td id=\"T_0f20c682_7b97_11ea_9820_b46bfcdeb885row1_col4\" class=\"data row1 col4\" >143</td>\n",
       "                        <td id=\"T_0f20c682_7b97_11ea_9820_b46bfcdeb885row1_col5\" class=\"data row1 col5\" >Frenzied Scimitar</td>\n",
       "                        <td id=\"T_0f20c682_7b97_11ea_9820_b46bfcdeb885row1_col6\" class=\"data row1 col6\" >1.560000</td>\n",
       "            </tr>\n",
       "            <tr>\n",
       "                        <th id=\"T_0f20c682_7b97_11ea_9820_b46bfcdeb885level0_row2\" class=\"row_heading level0 row2\" >2</th>\n",
       "                        <td id=\"T_0f20c682_7b97_11ea_9820_b46bfcdeb885row2_col0\" class=\"data row2 col0\" >2</td>\n",
       "                        <td id=\"T_0f20c682_7b97_11ea_9820_b46bfcdeb885row2_col1\" class=\"data row2 col1\" >Ithergue48</td>\n",
       "                        <td id=\"T_0f20c682_7b97_11ea_9820_b46bfcdeb885row2_col2\" class=\"data row2 col2\" >24</td>\n",
       "                        <td id=\"T_0f20c682_7b97_11ea_9820_b46bfcdeb885row2_col3\" class=\"data row2 col3\" >Male</td>\n",
       "                        <td id=\"T_0f20c682_7b97_11ea_9820_b46bfcdeb885row2_col4\" class=\"data row2 col4\" >92</td>\n",
       "                        <td id=\"T_0f20c682_7b97_11ea_9820_b46bfcdeb885row2_col5\" class=\"data row2 col5\" >Final Critic</td>\n",
       "                        <td id=\"T_0f20c682_7b97_11ea_9820_b46bfcdeb885row2_col6\" class=\"data row2 col6\" >4.880000</td>\n",
       "            </tr>\n",
       "            <tr>\n",
       "                        <th id=\"T_0f20c682_7b97_11ea_9820_b46bfcdeb885level0_row3\" class=\"row_heading level0 row3\" >3</th>\n",
       "                        <td id=\"T_0f20c682_7b97_11ea_9820_b46bfcdeb885row3_col0\" class=\"data row3 col0\" >3</td>\n",
       "                        <td id=\"T_0f20c682_7b97_11ea_9820_b46bfcdeb885row3_col1\" class=\"data row3 col1\" >Chamassasya86</td>\n",
       "                        <td id=\"T_0f20c682_7b97_11ea_9820_b46bfcdeb885row3_col2\" class=\"data row3 col2\" >24</td>\n",
       "                        <td id=\"T_0f20c682_7b97_11ea_9820_b46bfcdeb885row3_col3\" class=\"data row3 col3\" >Male</td>\n",
       "                        <td id=\"T_0f20c682_7b97_11ea_9820_b46bfcdeb885row3_col4\" class=\"data row3 col4\" >100</td>\n",
       "                        <td id=\"T_0f20c682_7b97_11ea_9820_b46bfcdeb885row3_col5\" class=\"data row3 col5\" >Blindscythe</td>\n",
       "                        <td id=\"T_0f20c682_7b97_11ea_9820_b46bfcdeb885row3_col6\" class=\"data row3 col6\" >3.270000</td>\n",
       "            </tr>\n",
       "            <tr>\n",
       "                        <th id=\"T_0f20c682_7b97_11ea_9820_b46bfcdeb885level0_row4\" class=\"row_heading level0 row4\" >4</th>\n",
       "                        <td id=\"T_0f20c682_7b97_11ea_9820_b46bfcdeb885row4_col0\" class=\"data row4 col0\" >4</td>\n",
       "                        <td id=\"T_0f20c682_7b97_11ea_9820_b46bfcdeb885row4_col1\" class=\"data row4 col1\" >Iskosia90</td>\n",
       "                        <td id=\"T_0f20c682_7b97_11ea_9820_b46bfcdeb885row4_col2\" class=\"data row4 col2\" >23</td>\n",
       "                        <td id=\"T_0f20c682_7b97_11ea_9820_b46bfcdeb885row4_col3\" class=\"data row4 col3\" >Male</td>\n",
       "                        <td id=\"T_0f20c682_7b97_11ea_9820_b46bfcdeb885row4_col4\" class=\"data row4 col4\" >131</td>\n",
       "                        <td id=\"T_0f20c682_7b97_11ea_9820_b46bfcdeb885row4_col5\" class=\"data row4 col5\" >Fury</td>\n",
       "                        <td id=\"T_0f20c682_7b97_11ea_9820_b46bfcdeb885row4_col6\" class=\"data row4 col6\" >1.440000</td>\n",
       "            </tr>\n",
       "    </tbody></table>"
      ],
      "text/plain": [
       "<pandas.io.formats.style.Styler at 0x287bd6733c8>"
      ]
     },
     "execution_count": 2,
     "metadata": {},
     "output_type": "execute_result"
    }
   ],
   "source": [
    "# The path to our CSV file\n",
    "file = \"Resources/purchase_data.csv\"\n",
    "\n",
    "# Read our file data into pandas frame\n",
    "df = pd.read_csv(file)\n",
    "df.head().style.set_table_styles([{'selector':'','props':[('border','4px solid #7a7')]}])"
   ]
  },
  {
   "cell_type": "markdown",
   "metadata": {},
   "source": [
    "## Player Count"
   ]
  },
  {
   "cell_type": "code",
   "execution_count": 3,
   "metadata": {
    "jupyter": {
     "source_hidden": true
    },
    "scrolled": true,
    "tags": [
     "hide_input"
    ]
   },
   "outputs": [
    {
     "data": {
      "text/html": [
       "<style  type=\"text/css\" >\n",
       "    #T_0f229914_7b97_11ea_98fe_b46bfcdeb885  {\n",
       "          border: 4px solid #7a7;\n",
       "    }</style><table id=\"T_0f229914_7b97_11ea_98fe_b46bfcdeb885\" ><thead>    <tr>        <th class=\"blank level0\" ></th>        <th class=\"col_heading level0 col0\" >Total Players</th>    </tr></thead><tbody>\n",
       "                <tr>\n",
       "                        <th id=\"T_0f229914_7b97_11ea_98fe_b46bfcdeb885level0_row0\" class=\"row_heading level0 row0\" >0</th>\n",
       "                        <td id=\"T_0f229914_7b97_11ea_98fe_b46bfcdeb885row0_col0\" class=\"data row0 col0\" >576</td>\n",
       "            </tr>\n",
       "    </tbody></table>"
      ],
      "text/plain": [
       "<pandas.io.formats.style.Styler at 0x287bd6711c8>"
      ]
     },
     "execution_count": 3,
     "metadata": {},
     "output_type": "execute_result"
    }
   ],
   "source": [
    "# Number of players, count unique SN and placed in a dataframe\n",
    "players = len(df['SN'].unique())\n",
    "players_df = pd.DataFrame({'Total Players': [len(df.SN.unique())]})\n",
    "players_df.style.set_table_styles([{'selector':'','props':[('border','4px solid #7a7')]}])"
   ]
  },
  {
   "cell_type": "markdown",
   "metadata": {},
   "source": [
    "## Purchasing Analysis (Total)"
   ]
  },
  {
   "cell_type": "code",
   "execution_count": 4,
   "metadata": {
    "jupyter": {
     "source_hidden": true
    }
   },
   "outputs": [
    {
     "data": {
      "text/html": [
       "<style  type=\"text/css\" >\n",
       "    #T_0fda296c_7b97_11ea_a134_b46bfcdeb885  {\n",
       "          border: 4px solid #7a7;\n",
       "    }</style><table id=\"T_0fda296c_7b97_11ea_a134_b46bfcdeb885\" ><thead>    <tr>        <th class=\"blank level0\" ></th>        <th class=\"col_heading level0 col0\" >Number of unique Items</th>        <th class=\"col_heading level0 col1\" >Average Price</th>        <th class=\"col_heading level0 col2\" >Number of Purchases</th>        <th class=\"col_heading level0 col3\" >Total Purchase</th>    </tr></thead><tbody>\n",
       "                <tr>\n",
       "                        <th id=\"T_0fda296c_7b97_11ea_a134_b46bfcdeb885level0_row0\" class=\"row_heading level0 row0\" >0</th>\n",
       "                        <td id=\"T_0fda296c_7b97_11ea_a134_b46bfcdeb885row0_col0\" class=\"data row0 col0\" >183</td>\n",
       "                        <td id=\"T_0fda296c_7b97_11ea_a134_b46bfcdeb885row0_col1\" class=\"data row0 col1\" >$3.05</td>\n",
       "                        <td id=\"T_0fda296c_7b97_11ea_a134_b46bfcdeb885row0_col2\" class=\"data row0 col2\" >780</td>\n",
       "                        <td id=\"T_0fda296c_7b97_11ea_a134_b46bfcdeb885row0_col3\" class=\"data row0 col3\" >$2379.77</td>\n",
       "            </tr>\n",
       "    </tbody></table>"
      ],
      "text/plain": [
       "<pandas.io.formats.style.Styler at 0x287be3aff88>"
      ]
     },
     "execution_count": 4,
     "metadata": {},
     "output_type": "execute_result"
    }
   ],
   "source": [
    "# Run basic calculations to obtain number of unique items, average price, etc.\n",
    "# Number of Unique Items\n",
    "# Average Purchase Price\n",
    "# Total Number of Purchases\n",
    "# Total Revenue\n",
    "\n",
    "numOfItem = len(df[\"Item ID\"].unique())\n",
    "averagePrice = df['Price'].mean()\n",
    "mumOfPurchase = len(df['Purchase ID'])\n",
    "totalPurchase = df['Price'].sum()\n",
    "\n",
    "# Create a summary data frame to hold the results.\n",
    "summary_data = pd.DataFrame({\n",
    "    'Number of unique Items': numOfItem,\n",
    "    'Average Price': '${:.2f}'.format(averagePrice),\n",
    "    'Number of Purchases': mumOfPurchase,\n",
    "    'Total Purchase': '${:.2f}'.format(totalPurchase)\n",
    "},index=[0])\n",
    "\n",
    "\n",
    "# Display the summary data frame with cleaner formatting.\n",
    "summary_data.style.set_table_styles([{'selector':'','props':[('border','4px solid #7a7')]}])\n",
    "\n",
    "\n"
   ]
  },
  {
   "cell_type": "markdown",
   "metadata": {},
   "source": [
    "## Gender Demographics"
   ]
  },
  {
   "cell_type": "code",
   "execution_count": 5,
   "metadata": {
    "jupyter": {
     "source_hidden": true
    }
   },
   "outputs": [
    {
     "data": {
      "text/html": [
       "<style  type=\"text/css\" >\n",
       "    #T_1077061c_7b97_11ea_aea7_b46bfcdeb885  {\n",
       "          border: 4px solid #7a7;\n",
       "    }</style><table id=\"T_1077061c_7b97_11ea_aea7_b46bfcdeb885\" ><thead>    <tr>        <th class=\"blank level0\" ></th>        <th class=\"col_heading level0 col0\" >Total Count</th>        <th class=\"col_heading level0 col1\" >Percentage of Players</th>    </tr></thead><tbody>\n",
       "                <tr>\n",
       "                        <th id=\"T_1077061c_7b97_11ea_aea7_b46bfcdeb885level0_row0\" class=\"row_heading level0 row0\" >Male</th>\n",
       "                        <td id=\"T_1077061c_7b97_11ea_aea7_b46bfcdeb885row0_col0\" class=\"data row0 col0\" >484</td>\n",
       "                        <td id=\"T_1077061c_7b97_11ea_aea7_b46bfcdeb885row0_col1\" class=\"data row0 col1\" >84.03%</td>\n",
       "            </tr>\n",
       "            <tr>\n",
       "                        <th id=\"T_1077061c_7b97_11ea_aea7_b46bfcdeb885level0_row1\" class=\"row_heading level0 row1\" >Female</th>\n",
       "                        <td id=\"T_1077061c_7b97_11ea_aea7_b46bfcdeb885row1_col0\" class=\"data row1 col0\" >81</td>\n",
       "                        <td id=\"T_1077061c_7b97_11ea_aea7_b46bfcdeb885row1_col1\" class=\"data row1 col1\" >14.06%</td>\n",
       "            </tr>\n",
       "            <tr>\n",
       "                        <th id=\"T_1077061c_7b97_11ea_aea7_b46bfcdeb885level0_row2\" class=\"row_heading level0 row2\" >Other / Non-Disclosed</th>\n",
       "                        <td id=\"T_1077061c_7b97_11ea_aea7_b46bfcdeb885row2_col0\" class=\"data row2 col0\" >11</td>\n",
       "                        <td id=\"T_1077061c_7b97_11ea_aea7_b46bfcdeb885row2_col1\" class=\"data row2 col1\" >1.91%</td>\n",
       "            </tr>\n",
       "    </tbody></table>"
      ],
      "text/plain": [
       "<pandas.io.formats.style.Styler at 0x287be22dd48>"
      ]
     },
     "execution_count": 5,
     "metadata": {},
     "output_type": "execute_result"
    }
   ],
   "source": [
    "# Identify unique items \"SN\" for Gender and drop any duplicates\n",
    "# Percentage and Count of Male Players\n",
    "# Percentage and Count of Female Players\n",
    "# Percentage and Count of Other / Non-Disclosed\n",
    "\n",
    "gender = df.drop_duplicates(['Gender','SN'])\n",
    "\n",
    "# maleTotal= df.loc[df['Gender'] == 'Male'].unique().sum()\n",
    "# femalTotal = df.loc[df['Gender'] == 'Female'].unique().sum()\n",
    "# otherTotal = df.loc[df['Gender'] == 'Other / Non-Disclosed'].unique().sum()\n",
    "\n",
    "# Value acount each \"Gender\"\n",
    "player_total = gender['Gender'].value_counts()\n",
    "\n",
    "\n",
    "# Value count the percentage in \"Gender\" and \"Other\" by players.\n",
    "percentOfPlayers = (gender['Gender'].value_counts()/players)*100\n",
    "\n",
    "\n",
    "# Display the summary data frame with cleaner formatting\n",
    "summary_gender = pd.DataFrame({\n",
    "    #'Gender': ('Male', 'Female', 'Other / Non-Disclosed'),\n",
    "    'Total Count': player_total,\n",
    "    'Percentage of Players': percentOfPlayers.map('{:.2f}%'.format)\n",
    "})\n",
    "\n",
    "summary_gender.style.set_table_styles([{'selector':'','props':[('border','4px solid #7a7')]}])"
   ]
  },
  {
   "cell_type": "markdown",
   "metadata": {},
   "source": [
    "## Purchasing Analysis (Gender)"
   ]
  },
  {
   "cell_type": "code",
   "execution_count": 6,
   "metadata": {
    "jupyter": {
     "source_hidden": true
    },
    "scrolled": true
   },
   "outputs": [
    {
     "data": {
      "text/html": [
       "<style  type=\"text/css\" >\n",
       "    #T_116beb36_7b97_11ea_a9e3_b46bfcdeb885  {\n",
       "          border: 4px solid #7a7;\n",
       "    }</style><table id=\"T_116beb36_7b97_11ea_a9e3_b46bfcdeb885\" ><thead>    <tr>        <th class=\"blank level0\" ></th>        <th class=\"col_heading level0 col0\" >Purchase Count</th>        <th class=\"col_heading level0 col1\" >Average Purchase Price</th>        <th class=\"col_heading level0 col2\" >Total Purchase Value</th>        <th class=\"col_heading level0 col3\" >Avg Total Purchase per Person</th>    </tr>    <tr>        <th class=\"index_name level0\" >Gender</th>        <th class=\"blank\" ></th>        <th class=\"blank\" ></th>        <th class=\"blank\" ></th>        <th class=\"blank\" ></th>    </tr></thead><tbody>\n",
       "                <tr>\n",
       "                        <th id=\"T_116beb36_7b97_11ea_a9e3_b46bfcdeb885level0_row0\" class=\"row_heading level0 row0\" >Female</th>\n",
       "                        <td id=\"T_116beb36_7b97_11ea_a9e3_b46bfcdeb885row0_col0\" class=\"data row0 col0\" >113</td>\n",
       "                        <td id=\"T_116beb36_7b97_11ea_a9e3_b46bfcdeb885row0_col1\" class=\"data row0 col1\" >$3.20</td>\n",
       "                        <td id=\"T_116beb36_7b97_11ea_a9e3_b46bfcdeb885row0_col2\" class=\"data row0 col2\" >$361.94</td>\n",
       "                        <td id=\"T_116beb36_7b97_11ea_a9e3_b46bfcdeb885row0_col3\" class=\"data row0 col3\" >$3.20</td>\n",
       "            </tr>\n",
       "            <tr>\n",
       "                        <th id=\"T_116beb36_7b97_11ea_a9e3_b46bfcdeb885level0_row1\" class=\"row_heading level0 row1\" >Male</th>\n",
       "                        <td id=\"T_116beb36_7b97_11ea_a9e3_b46bfcdeb885row1_col0\" class=\"data row1 col0\" >652</td>\n",
       "                        <td id=\"T_116beb36_7b97_11ea_a9e3_b46bfcdeb885row1_col1\" class=\"data row1 col1\" >$3.02</td>\n",
       "                        <td id=\"T_116beb36_7b97_11ea_a9e3_b46bfcdeb885row1_col2\" class=\"data row1 col2\" >$1967.64</td>\n",
       "                        <td id=\"T_116beb36_7b97_11ea_a9e3_b46bfcdeb885row1_col3\" class=\"data row1 col3\" >$3.02</td>\n",
       "            </tr>\n",
       "            <tr>\n",
       "                        <th id=\"T_116beb36_7b97_11ea_a9e3_b46bfcdeb885level0_row2\" class=\"row_heading level0 row2\" >Other / Non-Disclosed</th>\n",
       "                        <td id=\"T_116beb36_7b97_11ea_a9e3_b46bfcdeb885row2_col0\" class=\"data row2 col0\" >15</td>\n",
       "                        <td id=\"T_116beb36_7b97_11ea_a9e3_b46bfcdeb885row2_col1\" class=\"data row2 col1\" >$3.35</td>\n",
       "                        <td id=\"T_116beb36_7b97_11ea_a9e3_b46bfcdeb885row2_col2\" class=\"data row2 col2\" >$50.19</td>\n",
       "                        <td id=\"T_116beb36_7b97_11ea_a9e3_b46bfcdeb885row2_col3\" class=\"data row2 col3\" >$3.35</td>\n",
       "            </tr>\n",
       "    </tbody></table>"
      ],
      "text/plain": [
       "<pandas.io.formats.style.Styler at 0x287be38b648>"
      ]
     },
     "execution_count": 6,
     "metadata": {},
     "output_type": "execute_result"
    }
   ],
   "source": [
    "# Run basic calculations to obtain purchase count, avg. purchase price, avg. purchase total per person etc. by gender\n",
    "# The below each broken by gender\n",
    "# Purchase Count\n",
    "# Average Purchase Price\n",
    "# Total Purchase Value\n",
    "# Average Purchase Total per Person by Gender\n",
    "\n",
    "# Purchase count by each \"Gender\"\n",
    "purchaseCount = df.groupby('Gender').count()['SN']\n",
    "\n",
    "# Average Purchase Price by \"Gender\"\n",
    "averagePurchase = df.groupby('Gender').mean()['Price']\n",
    "\n",
    "# Ttotal Purchase Value by \"Gender\"\n",
    "totalPurchaseValue = df.groupby('Gender').sum()['Price']\n",
    "\n",
    "# Average Total Purchase by Person\n",
    "# average_price = df.groupby('SN').mean()['Price']\n",
    "avg = pd.DataFrame(df, columns=['SN', 'Price'])\n",
    "avg.groupby('SN').mean().reset_index()\n",
    "\n",
    "avgTotalPurchPerson = totalPurchaseValue / purchaseCount\n",
    "#avgTotalPurchPerson = purchaseCount / avg\n",
    "\n",
    "# Create a summary data frame to hold the results.\n",
    "summary_purchase = pd.DataFrame({\n",
    "    'Purchase Count': purchaseCount,\n",
    "    'Average Purchase Price': averagePurchase.map('${:.2f}'.format),\n",
    "    'Total Purchase Value': totalPurchaseValue.map('${:.2f}'.format),\n",
    "    'Avg Total Purchase per Person': avgTotalPurchPerson.map('${:.2f}'.format)\n",
    "})\n",
    "\n",
    "# Display the summary data frame with cleaner formatting.\n",
    "summary_purchase.style.set_table_styles([{'selector':'','props':[('border','4px solid #7a7')]}])\n"
   ]
  },
  {
   "cell_type": "markdown",
   "metadata": {},
   "source": [
    "#### Average per Gender"
   ]
  },
  {
   "cell_type": "code",
   "execution_count": 7,
   "metadata": {
    "jupyter": {
     "source_hidden": true
    }
   },
   "outputs": [
    {
     "data": {
      "text/html": [
       "<style  type=\"text/css\" >\n",
       "    #T_125187b0_7b97_11ea_926e_b46bfcdeb885  {\n",
       "          border: 4px solid #7a7;\n",
       "    }</style><table id=\"T_125187b0_7b97_11ea_926e_b46bfcdeb885\" ><thead>    <tr>        <th class=\"blank level0\" ></th>        <th class=\"col_heading level0 col0\" >Gender</th>        <th class=\"col_heading level0 col1\" >Price</th>    </tr></thead><tbody>\n",
       "                <tr>\n",
       "                        <th id=\"T_125187b0_7b97_11ea_926e_b46bfcdeb885level0_row0\" class=\"row_heading level0 row0\" >0</th>\n",
       "                        <td id=\"T_125187b0_7b97_11ea_926e_b46bfcdeb885row0_col0\" class=\"data row0 col0\" >Female</td>\n",
       "                        <td id=\"T_125187b0_7b97_11ea_926e_b46bfcdeb885row0_col1\" class=\"data row0 col1\" >3.203009</td>\n",
       "            </tr>\n",
       "            <tr>\n",
       "                        <th id=\"T_125187b0_7b97_11ea_926e_b46bfcdeb885level0_row1\" class=\"row_heading level0 row1\" >1</th>\n",
       "                        <td id=\"T_125187b0_7b97_11ea_926e_b46bfcdeb885row1_col0\" class=\"data row1 col0\" >Male</td>\n",
       "                        <td id=\"T_125187b0_7b97_11ea_926e_b46bfcdeb885row1_col1\" class=\"data row1 col1\" >3.017853</td>\n",
       "            </tr>\n",
       "            <tr>\n",
       "                        <th id=\"T_125187b0_7b97_11ea_926e_b46bfcdeb885level0_row2\" class=\"row_heading level0 row2\" >2</th>\n",
       "                        <td id=\"T_125187b0_7b97_11ea_926e_b46bfcdeb885row2_col0\" class=\"data row2 col0\" >Other / Non-Disclosed</td>\n",
       "                        <td id=\"T_125187b0_7b97_11ea_926e_b46bfcdeb885row2_col1\" class=\"data row2 col1\" >3.346000</td>\n",
       "            </tr>\n",
       "    </tbody></table>"
      ],
      "text/plain": [
       "<pandas.io.formats.style.Styler at 0x287be3f3e48>"
      ]
     },
     "execution_count": 7,
     "metadata": {},
     "output_type": "execute_result"
    }
   ],
   "source": [
    "#average per gender\n",
    "avg = pd.DataFrame(df, columns=['Gender', 'SN','Price'])\n",
    "avg.groupby('Gender').mean().reset_index().style.set_table_styles([{'selector':'','props':[('border','4px solid #7a7')]}])"
   ]
  },
  {
   "cell_type": "markdown",
   "metadata": {},
   "source": [
    "## Age Demographics"
   ]
  },
  {
   "cell_type": "code",
   "execution_count": 8,
   "metadata": {
    "jupyter": {
     "source_hidden": true
    },
    "scrolled": true
   },
   "outputs": [
    {
     "data": {
      "text/html": [
       "<style  type=\"text/css\" >\n",
       "    #T_133b6a92_7b97_11ea_94c1_b46bfcdeb885  {\n",
       "          border: 4px solid #7a7;\n",
       "    }</style><table id=\"T_133b6a92_7b97_11ea_94c1_b46bfcdeb885\" ><thead>    <tr>        <th class=\"blank level0\" ></th>        <th class=\"col_heading level0 col0\" >Total Count</th>        <th class=\"col_heading level0 col1\" >Percentage of Players</th>    </tr>    <tr>        <th class=\"index_name level0\" >Age Range</th>        <th class=\"blank\" ></th>        <th class=\"blank\" ></th>    </tr></thead><tbody>\n",
       "                <tr>\n",
       "                        <th id=\"T_133b6a92_7b97_11ea_94c1_b46bfcdeb885level0_row0\" class=\"row_heading level0 row0\" ><10</th>\n",
       "                        <td id=\"T_133b6a92_7b97_11ea_94c1_b46bfcdeb885row0_col0\" class=\"data row0 col0\" >17</td>\n",
       "                        <td id=\"T_133b6a92_7b97_11ea_94c1_b46bfcdeb885row0_col1\" class=\"data row0 col1\" >2.95%</td>\n",
       "            </tr>\n",
       "            <tr>\n",
       "                        <th id=\"T_133b6a92_7b97_11ea_94c1_b46bfcdeb885level0_row1\" class=\"row_heading level0 row1\" >10-14</th>\n",
       "                        <td id=\"T_133b6a92_7b97_11ea_94c1_b46bfcdeb885row1_col0\" class=\"data row1 col0\" >48</td>\n",
       "                        <td id=\"T_133b6a92_7b97_11ea_94c1_b46bfcdeb885row1_col1\" class=\"data row1 col1\" >8.33%</td>\n",
       "            </tr>\n",
       "            <tr>\n",
       "                        <th id=\"T_133b6a92_7b97_11ea_94c1_b46bfcdeb885level0_row2\" class=\"row_heading level0 row2\" >15-19</th>\n",
       "                        <td id=\"T_133b6a92_7b97_11ea_94c1_b46bfcdeb885row2_col0\" class=\"data row2 col0\" >64</td>\n",
       "                        <td id=\"T_133b6a92_7b97_11ea_94c1_b46bfcdeb885row2_col1\" class=\"data row2 col1\" >11.11%</td>\n",
       "            </tr>\n",
       "            <tr>\n",
       "                        <th id=\"T_133b6a92_7b97_11ea_94c1_b46bfcdeb885level0_row3\" class=\"row_heading level0 row3\" >20-24</th>\n",
       "                        <td id=\"T_133b6a92_7b97_11ea_94c1_b46bfcdeb885row3_col0\" class=\"data row3 col0\" >275</td>\n",
       "                        <td id=\"T_133b6a92_7b97_11ea_94c1_b46bfcdeb885row3_col1\" class=\"data row3 col1\" >47.74%</td>\n",
       "            </tr>\n",
       "            <tr>\n",
       "                        <th id=\"T_133b6a92_7b97_11ea_94c1_b46bfcdeb885level0_row4\" class=\"row_heading level0 row4\" >25-29</th>\n",
       "                        <td id=\"T_133b6a92_7b97_11ea_94c1_b46bfcdeb885row4_col0\" class=\"data row4 col0\" >77</td>\n",
       "                        <td id=\"T_133b6a92_7b97_11ea_94c1_b46bfcdeb885row4_col1\" class=\"data row4 col1\" >13.37%</td>\n",
       "            </tr>\n",
       "            <tr>\n",
       "                        <th id=\"T_133b6a92_7b97_11ea_94c1_b46bfcdeb885level0_row5\" class=\"row_heading level0 row5\" >30-34</th>\n",
       "                        <td id=\"T_133b6a92_7b97_11ea_94c1_b46bfcdeb885row5_col0\" class=\"data row5 col0\" >62</td>\n",
       "                        <td id=\"T_133b6a92_7b97_11ea_94c1_b46bfcdeb885row5_col1\" class=\"data row5 col1\" >10.76%</td>\n",
       "            </tr>\n",
       "            <tr>\n",
       "                        <th id=\"T_133b6a92_7b97_11ea_94c1_b46bfcdeb885level0_row6\" class=\"row_heading level0 row6\" >35-39</th>\n",
       "                        <td id=\"T_133b6a92_7b97_11ea_94c1_b46bfcdeb885row6_col0\" class=\"data row6 col0\" >33</td>\n",
       "                        <td id=\"T_133b6a92_7b97_11ea_94c1_b46bfcdeb885row6_col1\" class=\"data row6 col1\" >5.73%</td>\n",
       "            </tr>\n",
       "            <tr>\n",
       "                        <th id=\"T_133b6a92_7b97_11ea_94c1_b46bfcdeb885level0_row7\" class=\"row_heading level0 row7\" >40+</th>\n",
       "                        <td id=\"T_133b6a92_7b97_11ea_94c1_b46bfcdeb885row7_col0\" class=\"data row7 col0\" >0</td>\n",
       "                        <td id=\"T_133b6a92_7b97_11ea_94c1_b46bfcdeb885row7_col1\" class=\"data row7 col1\" >0.00%</td>\n",
       "            </tr>\n",
       "    </tbody></table>"
      ],
      "text/plain": [
       "<pandas.io.formats.style.Styler at 0x287be000388>"
      ]
     },
     "execution_count": 8,
     "metadata": {},
     "output_type": "execute_result"
    }
   ],
   "source": [
    "# The below each broken into bins of 4 years (i.e. <10, 10-14, 15-19, etc.)\n",
    "\n",
    "# Purchase Count\n",
    "# Average Purchase Price\n",
    "# Total Purchase Value\n",
    "# Average Purchase Total per Person by Age Group\n",
    "\n",
    "# Establish bins for ages\n",
    "age_bins = [0, 9, 15, 18, 24, 29, 35, 45, 55]\n",
    "\n",
    "age_labels = ['<10', '10-14', '15-19', '20-24', '25-29', '30-34', '35-39', '40+']\n",
    "# pd.cut(df[\"Age\"], age_bins, labels=age_labels).head()\n",
    "\n",
    "# Categorize the existing players using the age bins. Hint: use pd.cut()\n",
    "df['Age Range'] =  pd.cut(df['Age'], age_bins, labels=age_labels)\n",
    "\n",
    "# Calculate the numbers and percentages by age group\n",
    "age_group = df.groupby('Age Range').SN.nunique()\n",
    "\n",
    "# Create a summary data frame to hold the results, round the percentage column 2 decimal\n",
    "# Display Age Demographics Table    \n",
    "age_summary = pd.DataFrame({\n",
    "    'Total Count': age_group,\n",
    "    'Percentage of Players': (age_group / df.SN.nunique() * 100).map(\"{:.2f}%\".format)\n",
    "})\n",
    "age_summary.style.set_table_styles([{'selector':'','props':[('border','4px solid #7a7')]}])"
   ]
  },
  {
   "cell_type": "markdown",
   "metadata": {},
   "source": [
    "## Purchasing Analysis (Age)"
   ]
  },
  {
   "cell_type": "code",
   "execution_count": 9,
   "metadata": {
    "scrolled": true
   },
   "outputs": [
    {
     "data": {
      "text/html": [
       "<style  type=\"text/css\" >\n",
       "    #T_1472787a_7b97_11ea_b176_b46bfcdeb885  {\n",
       "          border: 4px solid #7a7;\n",
       "    }</style><table id=\"T_1472787a_7b97_11ea_b176_b46bfcdeb885\" ><thead>    <tr>        <th class=\"blank level0\" ></th>        <th class=\"col_heading level0 col0\" >Purchase Count</th>        <th class=\"col_heading level0 col1\" >Average Purchase Price</th>        <th class=\"col_heading level0 col2\" >Total Purchase Value</th>        <th class=\"col_heading level0 col3\" >Avg Total per Person</th>    </tr></thead><tbody>\n",
       "                <tr>\n",
       "                        <th id=\"T_1472787a_7b97_11ea_b176_b46bfcdeb885level0_row0\" class=\"row_heading level0 row0\" ><10</th>\n",
       "                        <td id=\"T_1472787a_7b97_11ea_b176_b46bfcdeb885row0_col0\" class=\"data row0 col0\" >77</td>\n",
       "                        <td id=\"T_1472787a_7b97_11ea_b176_b46bfcdeb885row0_col1\" class=\"data row0 col1\" >$3.35</td>\n",
       "                        <td id=\"T_1472787a_7b97_11ea_b176_b46bfcdeb885row0_col2\" class=\"data row0 col2\" >$23.00</td>\n",
       "                        <td id=\"T_1472787a_7b97_11ea_b176_b46bfcdeb885row0_col3\" class=\"data row0 col3\" >$3.35</td>\n",
       "            </tr>\n",
       "            <tr>\n",
       "                        <th id=\"T_1472787a_7b97_11ea_b176_b46bfcdeb885level0_row1\" class=\"row_heading level0 row1\" >10-14</th>\n",
       "                        <td id=\"T_1472787a_7b97_11ea_b176_b46bfcdeb885row1_col0\" class=\"data row1 col0\" >188</td>\n",
       "                        <td id=\"T_1472787a_7b97_11ea_b176_b46bfcdeb885row1_col1\" class=\"data row1 col1\" >$2.99</td>\n",
       "                        <td id=\"T_1472787a_7b97_11ea_b176_b46bfcdeb885row1_col2\" class=\"data row1 col2\" >$63.00</td>\n",
       "                        <td id=\"T_1472787a_7b97_11ea_b176_b46bfcdeb885row1_col3\" class=\"data row1 col3\" >$2.99</td>\n",
       "            </tr>\n",
       "            <tr>\n",
       "                        <th id=\"T_1472787a_7b97_11ea_b176_b46bfcdeb885level0_row2\" class=\"row_heading level0 row2\" >15-19</th>\n",
       "                        <td id=\"T_1472787a_7b97_11ea_b176_b46bfcdeb885row2_col0\" class=\"data row2 col0\" >237</td>\n",
       "                        <td id=\"T_1472787a_7b97_11ea_b176_b46bfcdeb885row2_col1\" class=\"data row2 col1\" >$3.04</td>\n",
       "                        <td id=\"T_1472787a_7b97_11ea_b176_b46bfcdeb885row2_col2\" class=\"data row2 col2\" >$78.00</td>\n",
       "                        <td id=\"T_1472787a_7b97_11ea_b176_b46bfcdeb885row2_col3\" class=\"data row2 col3\" >$3.04</td>\n",
       "            </tr>\n",
       "            <tr>\n",
       "                        <th id=\"T_1472787a_7b97_11ea_b176_b46bfcdeb885level0_row3\" class=\"row_heading level0 row3\" >20-24</th>\n",
       "                        <td id=\"T_1472787a_7b97_11ea_b176_b46bfcdeb885row3_col0\" class=\"data row3 col0\" >1184</td>\n",
       "                        <td id=\"T_1472787a_7b97_11ea_b176_b46bfcdeb885row3_col1\" class=\"data row3 col1\" >$3.05</td>\n",
       "                        <td id=\"T_1472787a_7b97_11ea_b176_b46bfcdeb885row3_col2\" class=\"data row3 col2\" >$388.00</td>\n",
       "                        <td id=\"T_1472787a_7b97_11ea_b176_b46bfcdeb885row3_col3\" class=\"data row3 col3\" >$3.05</td>\n",
       "            </tr>\n",
       "            <tr>\n",
       "                        <th id=\"T_1472787a_7b97_11ea_b176_b46bfcdeb885level0_row4\" class=\"row_heading level0 row4\" >25-29</th>\n",
       "                        <td id=\"T_1472787a_7b97_11ea_b176_b46bfcdeb885row4_col0\" class=\"data row4 col0\" >293</td>\n",
       "                        <td id=\"T_1472787a_7b97_11ea_b176_b46bfcdeb885row4_col1\" class=\"data row4 col1\" >$2.90</td>\n",
       "                        <td id=\"T_1472787a_7b97_11ea_b176_b46bfcdeb885row4_col2\" class=\"data row4 col2\" >$101.00</td>\n",
       "                        <td id=\"T_1472787a_7b97_11ea_b176_b46bfcdeb885row4_col3\" class=\"data row4 col3\" >$2.90</td>\n",
       "            </tr>\n",
       "            <tr>\n",
       "                        <th id=\"T_1472787a_7b97_11ea_b176_b46bfcdeb885level0_row5\" class=\"row_heading level0 row5\" >30-34</th>\n",
       "                        <td id=\"T_1472787a_7b97_11ea_b176_b46bfcdeb885row5_col0\" class=\"data row5 col0\" >266</td>\n",
       "                        <td id=\"T_1472787a_7b97_11ea_b176_b46bfcdeb885row5_col1\" class=\"data row5 col1\" >$3.06</td>\n",
       "                        <td id=\"T_1472787a_7b97_11ea_b176_b46bfcdeb885row5_col2\" class=\"data row5 col2\" >$87.00</td>\n",
       "                        <td id=\"T_1472787a_7b97_11ea_b176_b46bfcdeb885row5_col3\" class=\"data row5 col3\" >$3.06</td>\n",
       "            </tr>\n",
       "            <tr>\n",
       "                        <th id=\"T_1472787a_7b97_11ea_b176_b46bfcdeb885level0_row6\" class=\"row_heading level0 row6\" >35-39</th>\n",
       "                        <td id=\"T_1472787a_7b97_11ea_b176_b46bfcdeb885row6_col0\" class=\"data row6 col0\" >134</td>\n",
       "                        <td id=\"T_1472787a_7b97_11ea_b176_b46bfcdeb885row6_col1\" class=\"data row6 col1\" >$3.35</td>\n",
       "                        <td id=\"T_1472787a_7b97_11ea_b176_b46bfcdeb885row6_col2\" class=\"data row6 col2\" >$40.00</td>\n",
       "                        <td id=\"T_1472787a_7b97_11ea_b176_b46bfcdeb885row6_col3\" class=\"data row6 col3\" >$3.35</td>\n",
       "            </tr>\n",
       "            <tr>\n",
       "                        <th id=\"T_1472787a_7b97_11ea_b176_b46bfcdeb885level0_row7\" class=\"row_heading level0 row7\" >40+</th>\n",
       "                        <td id=\"T_1472787a_7b97_11ea_b176_b46bfcdeb885row7_col0\" class=\"data row7 col0\" >0</td>\n",
       "                        <td id=\"T_1472787a_7b97_11ea_b176_b46bfcdeb885row7_col1\" class=\"data row7 col1\" >$nan</td>\n",
       "                        <td id=\"T_1472787a_7b97_11ea_b176_b46bfcdeb885row7_col2\" class=\"data row7 col2\" >$0.00</td>\n",
       "                        <td id=\"T_1472787a_7b97_11ea_b176_b46bfcdeb885row7_col3\" class=\"data row7 col3\" >$nan</td>\n",
       "            </tr>\n",
       "    </tbody></table>"
      ],
      "text/plain": [
       "<pandas.io.formats.style.Styler at 0x287be41dc08>"
      ]
     },
     "execution_count": 9,
     "metadata": {},
     "output_type": "execute_result"
    }
   ],
   "source": [
    "# Bin the purchase_data data frame by age\n",
    "# Run basic calculations to obtain purchase count, avg. purchase price, avg. purchase total per person etc. in the table below\n",
    "\n",
    "# Display the summary data frame\n",
    "purchase_count1 = df.groupby(['Age Range']).sum()['Price']\n",
    "# purchase_count\n",
    "\n",
    "avg_price = df.groupby(['Age Range']).mean()['Price']\n",
    "# avg_price\n",
    "\n",
    "total_purch_value = df[\"Age Range\"].value_counts()\n",
    "#total_purch_value\n",
    "\n",
    "avg_total_person = purchase_count1 / total_purch_value\n",
    "# avg_total_person\n",
    "\n",
    "# Create a summary data frame to hold the results\n",
    "purchase_summary = pd.DataFrame({\n",
    "    'Purchase Count': purchase_count1.map('{:.0f}'.format),\n",
    "    'Average Purchase Price': avg_price.map('${:.2f}'.format),\n",
    "    'Total Purchase Value': total_purch_value.map('${:.2f}'.format),\n",
    "    'Avg Total per Person': avg_total_person.map('${:.2f}'.format) \n",
    "})\n",
    "\n",
    "purchase_summary.style.set_table_styles([{'selector':'','props':[('border','4px solid #7a7')]}])"
   ]
  },
  {
   "cell_type": "markdown",
   "metadata": {},
   "source": [
    "## Top Spenders"
   ]
  },
  {
   "cell_type": "code",
   "execution_count": 10,
   "metadata": {
    "scrolled": true
   },
   "outputs": [
    {
     "data": {
      "text/html": [
       "<style  type=\"text/css\" >\n",
       "    #T_156260a4_7b97_11ea_b3c5_b46bfcdeb885  {\n",
       "          border: 4px solid #7a7;\n",
       "    }</style><table id=\"T_156260a4_7b97_11ea_b3c5_b46bfcdeb885\" ><thead>    <tr>        <th class=\"blank level0\" ></th>        <th class=\"col_heading level0 col0\" >Purchase Count</th>        <th class=\"col_heading level0 col1\" >Average Purchase Price</th>        <th class=\"col_heading level0 col2\" >Total Purchase Value</th>    </tr></thead><tbody>\n",
       "                <tr>\n",
       "                        <th id=\"T_156260a4_7b97_11ea_b3c5_b46bfcdeb885level0_row0\" class=\"row_heading level0 row0\" >Lisosia93</th>\n",
       "                        <td id=\"T_156260a4_7b97_11ea_b3c5_b46bfcdeb885row0_col0\" class=\"data row0 col0\" >5</td>\n",
       "                        <td id=\"T_156260a4_7b97_11ea_b3c5_b46bfcdeb885row0_col1\" class=\"data row0 col1\" >$3.79</td>\n",
       "                        <td id=\"T_156260a4_7b97_11ea_b3c5_b46bfcdeb885row0_col2\" class=\"data row0 col2\" >$18.96</td>\n",
       "            </tr>\n",
       "            <tr>\n",
       "                        <th id=\"T_156260a4_7b97_11ea_b3c5_b46bfcdeb885level0_row1\" class=\"row_heading level0 row1\" >Idastidru52</th>\n",
       "                        <td id=\"T_156260a4_7b97_11ea_b3c5_b46bfcdeb885row1_col0\" class=\"data row1 col0\" >4</td>\n",
       "                        <td id=\"T_156260a4_7b97_11ea_b3c5_b46bfcdeb885row1_col1\" class=\"data row1 col1\" >$3.86</td>\n",
       "                        <td id=\"T_156260a4_7b97_11ea_b3c5_b46bfcdeb885row1_col2\" class=\"data row1 col2\" >$15.45</td>\n",
       "            </tr>\n",
       "            <tr>\n",
       "                        <th id=\"T_156260a4_7b97_11ea_b3c5_b46bfcdeb885level0_row2\" class=\"row_heading level0 row2\" >Chamjask73</th>\n",
       "                        <td id=\"T_156260a4_7b97_11ea_b3c5_b46bfcdeb885row2_col0\" class=\"data row2 col0\" >3</td>\n",
       "                        <td id=\"T_156260a4_7b97_11ea_b3c5_b46bfcdeb885row2_col1\" class=\"data row2 col1\" >$4.61</td>\n",
       "                        <td id=\"T_156260a4_7b97_11ea_b3c5_b46bfcdeb885row2_col2\" class=\"data row2 col2\" >$13.83</td>\n",
       "            </tr>\n",
       "            <tr>\n",
       "                        <th id=\"T_156260a4_7b97_11ea_b3c5_b46bfcdeb885level0_row3\" class=\"row_heading level0 row3\" >Iral74</th>\n",
       "                        <td id=\"T_156260a4_7b97_11ea_b3c5_b46bfcdeb885row3_col0\" class=\"data row3 col0\" >4</td>\n",
       "                        <td id=\"T_156260a4_7b97_11ea_b3c5_b46bfcdeb885row3_col1\" class=\"data row3 col1\" >$3.40</td>\n",
       "                        <td id=\"T_156260a4_7b97_11ea_b3c5_b46bfcdeb885row3_col2\" class=\"data row3 col2\" >$13.62</td>\n",
       "            </tr>\n",
       "            <tr>\n",
       "                        <th id=\"T_156260a4_7b97_11ea_b3c5_b46bfcdeb885level0_row4\" class=\"row_heading level0 row4\" >Iskadarya95</th>\n",
       "                        <td id=\"T_156260a4_7b97_11ea_b3c5_b46bfcdeb885row4_col0\" class=\"data row4 col0\" >3</td>\n",
       "                        <td id=\"T_156260a4_7b97_11ea_b3c5_b46bfcdeb885row4_col1\" class=\"data row4 col1\" >$4.37</td>\n",
       "                        <td id=\"T_156260a4_7b97_11ea_b3c5_b46bfcdeb885row4_col2\" class=\"data row4 col2\" >$13.10</td>\n",
       "            </tr>\n",
       "    </tbody></table>"
      ],
      "text/plain": [
       "<pandas.io.formats.style.Styler at 0x287be43f408>"
      ]
     },
     "execution_count": 10,
     "metadata": {},
     "output_type": "execute_result"
    }
   ],
   "source": [
    "# Identify the the top 5 spenders in the game by total purchase value, then list (in a table):\n",
    "# SN, Purchase Count, Average Purchase Price, Total Purchase Value.\n",
    "\n",
    "# count purchases made by \"SN\" from top to bottom\n",
    "sn_purchase_count = df[\"SN\"].value_counts()\n",
    "#sn_purchase_count\n",
    "\n",
    "# Average purchase price by \"SN\"\n",
    "avr_purchase = df[\"Price\"].groupby(df[\"SN\"]).mean()\n",
    "# avr_purchase\n",
    "\n",
    "#Total purchase by each unique \"SN\"\n",
    "sn_purchase_sum = df[\"Price\"].groupby(df[\"SN\"]).sum()\n",
    "# sn_purchase_sum.sort_values(ascending=False)\n",
    "\n",
    "# Create a summary data frame to hold the results, sort the total purchse value in descending order.\n",
    "sn_df = pd.DataFrame({\n",
    "    \"Purchase Count\": sn_purchase_count ,\n",
    "    \"Average Purchase Price\": avr_purchase,\n",
    "    \"Total Purchase Value\": sn_purchase_sum\n",
    "})\n",
    "\n",
    "#Sort total purchase in descending order and give data a cleaner formatting\n",
    "sorted_data = sn_df.sort_values(\"Total Purchase Value\", ascending= False)\n",
    "sorted_data[\"Average Purchase Price\"] = sorted_data[\"Average Purchase Price\"].map(\"${:.2f}\".format)\n",
    "sorted_data[\"Total Purchase Value\"] = sorted_data[\"Total Purchase Value\"].map(\"${:.2f}\".format)\n",
    "\n",
    "# Display a preview of the summary data frame\n",
    "sorted_data.head().style.set_table_styles([{'selector':'','props':[('border','4px solid #7a7')]}])"
   ]
  },
  {
   "cell_type": "markdown",
   "metadata": {},
   "source": [
    "## Most Popular Items"
   ]
  },
  {
   "cell_type": "code",
   "execution_count": 15,
   "metadata": {
    "scrolled": true
   },
   "outputs": [
    {
     "data": {
      "text/html": [
       "<style  type=\"text/css\" >\n",
       "    #T_71e148ca_7b97_11ea_b035_b46bfcdeb885  {\n",
       "          border: 4px solid #7a7;\n",
       "    }</style><table id=\"T_71e148ca_7b97_11ea_b035_b46bfcdeb885\" ><thead>    <tr>        <th class=\"blank\" ></th>        <th class=\"blank level0\" ></th>        <th class=\"col_heading level0 col0\" >Purchase Count</th>        <th class=\"col_heading level0 col1\" >Item Price</th>        <th class=\"col_heading level0 col2\" >Total Purchase Value</th>    </tr>    <tr>        <th class=\"index_name level0\" >Item ID</th>        <th class=\"index_name level1\" >Item Name</th>        <th class=\"blank\" ></th>        <th class=\"blank\" ></th>        <th class=\"blank\" ></th>    </tr></thead><tbody>\n",
       "                <tr>\n",
       "                        <th id=\"T_71e148ca_7b97_11ea_b035_b46bfcdeb885level0_row0\" class=\"row_heading level0 row0\" >178</th>\n",
       "                        <th id=\"T_71e148ca_7b97_11ea_b035_b46bfcdeb885level1_row0\" class=\"row_heading level1 row0\" >Oathbreaker, Last Hope of the Breaking Storm</th>\n",
       "                        <td id=\"T_71e148ca_7b97_11ea_b035_b46bfcdeb885row0_col0\" class=\"data row0 col0\" >12</td>\n",
       "                        <td id=\"T_71e148ca_7b97_11ea_b035_b46bfcdeb885row0_col1\" class=\"data row0 col1\" >$4.23</td>\n",
       "                        <td id=\"T_71e148ca_7b97_11ea_b035_b46bfcdeb885row0_col2\" class=\"data row0 col2\" >$50.76</td>\n",
       "            </tr>\n",
       "            <tr>\n",
       "                        <th id=\"T_71e148ca_7b97_11ea_b035_b46bfcdeb885level0_row1\" class=\"row_heading level0 row1\" >145</th>\n",
       "                        <th id=\"T_71e148ca_7b97_11ea_b035_b46bfcdeb885level1_row1\" class=\"row_heading level1 row1\" >Fiery Glass Crusader</th>\n",
       "                        <td id=\"T_71e148ca_7b97_11ea_b035_b46bfcdeb885row1_col0\" class=\"data row1 col0\" >9</td>\n",
       "                        <td id=\"T_71e148ca_7b97_11ea_b035_b46bfcdeb885row1_col1\" class=\"data row1 col1\" >$4.58</td>\n",
       "                        <td id=\"T_71e148ca_7b97_11ea_b035_b46bfcdeb885row1_col2\" class=\"data row1 col2\" >$41.22</td>\n",
       "            </tr>\n",
       "            <tr>\n",
       "                        <th id=\"T_71e148ca_7b97_11ea_b035_b46bfcdeb885level0_row2\" class=\"row_heading level0 row2\" >108</th>\n",
       "                        <th id=\"T_71e148ca_7b97_11ea_b035_b46bfcdeb885level1_row2\" class=\"row_heading level1 row2\" >Extraction, Quickblade Of Trembling Hands</th>\n",
       "                        <td id=\"T_71e148ca_7b97_11ea_b035_b46bfcdeb885row2_col0\" class=\"data row2 col0\" >9</td>\n",
       "                        <td id=\"T_71e148ca_7b97_11ea_b035_b46bfcdeb885row2_col1\" class=\"data row2 col1\" >$3.53</td>\n",
       "                        <td id=\"T_71e148ca_7b97_11ea_b035_b46bfcdeb885row2_col2\" class=\"data row2 col2\" >$31.77</td>\n",
       "            </tr>\n",
       "            <tr>\n",
       "                        <th id=\"T_71e148ca_7b97_11ea_b035_b46bfcdeb885level0_row3\" class=\"row_heading level0 row3\" >82</th>\n",
       "                        <th id=\"T_71e148ca_7b97_11ea_b035_b46bfcdeb885level1_row3\" class=\"row_heading level1 row3\" >Nirvana</th>\n",
       "                        <td id=\"T_71e148ca_7b97_11ea_b035_b46bfcdeb885row3_col0\" class=\"data row3 col0\" >9</td>\n",
       "                        <td id=\"T_71e148ca_7b97_11ea_b035_b46bfcdeb885row3_col1\" class=\"data row3 col1\" >$4.90</td>\n",
       "                        <td id=\"T_71e148ca_7b97_11ea_b035_b46bfcdeb885row3_col2\" class=\"data row3 col2\" >$44.10</td>\n",
       "            </tr>\n",
       "            <tr>\n",
       "                        <th id=\"T_71e148ca_7b97_11ea_b035_b46bfcdeb885level0_row4\" class=\"row_heading level0 row4\" >19</th>\n",
       "                        <th id=\"T_71e148ca_7b97_11ea_b035_b46bfcdeb885level1_row4\" class=\"row_heading level1 row4\" >Pursuit, Cudgel of Necromancy</th>\n",
       "                        <td id=\"T_71e148ca_7b97_11ea_b035_b46bfcdeb885row4_col0\" class=\"data row4 col0\" >8</td>\n",
       "                        <td id=\"T_71e148ca_7b97_11ea_b035_b46bfcdeb885row4_col1\" class=\"data row4 col1\" >$1.02</td>\n",
       "                        <td id=\"T_71e148ca_7b97_11ea_b035_b46bfcdeb885row4_col2\" class=\"data row4 col2\" >$8.16</td>\n",
       "            </tr>\n",
       "    </tbody></table>"
      ],
      "text/plain": [
       "<pandas.io.formats.style.Styler at 0x287be467788>"
      ]
     },
     "execution_count": 15,
     "metadata": {},
     "output_type": "execute_result"
    }
   ],
   "source": [
    "# Identify the 5 most popular items by purchase count, then list (in a table):\n",
    "# Item ID\n",
    "# Item Name\n",
    "# Purchase Count\n",
    "# Item Price\n",
    "# Total Purchase Value\n",
    "\n",
    "# Retrieve the Item ID, Item Name, and Item Price \n",
    "item_by_ID = df.groupby(['Item ID', 'Item Name'])\n",
    "item_count_by_ID = item_by_ID['Item ID'].count()\n",
    "item_price = item_by_ID['Price'].mean()\n",
    "total_purchase_value = item_by_ID['Price'].sum()\n",
    "\n",
    "# Create a summary data frame to hold the results\n",
    "items_summary = pd.DataFrame({\n",
    "    'Purchase Count': item_count_by_ID, \n",
    "    'Item Price': item_price.map('${:,.2f}'.format),\n",
    "    \"Total Purchase Value\": total_purchase_value.map('${:,.2f}'.format)\n",
    "})\n",
    "\n",
    "# Display a preview of the summary data frame, with purchase count in descending order\n",
    "items_summary.sort_values('Purchase Count', ascending=False).head().style.set_table_styles([{'selector':'','props':[('border','4px solid #7a7')]}])"
   ]
  },
  {
   "cell_type": "markdown",
   "metadata": {},
   "source": [
    "## Most Profitable Items"
   ]
  },
  {
   "cell_type": "code",
   "execution_count": 17,
   "metadata": {},
   "outputs": [
    {
     "data": {
      "text/html": [
       "<style  type=\"text/css\" >\n",
       "    #T_805f5a6c_7b97_11ea_87b3_b46bfcdeb885  {\n",
       "          border: 4px solid #7a7;\n",
       "    }</style><table id=\"T_805f5a6c_7b97_11ea_87b3_b46bfcdeb885\" ><thead>    <tr>        <th class=\"blank\" ></th>        <th class=\"blank level0\" ></th>        <th class=\"col_heading level0 col0\" >Purchase Count</th>        <th class=\"col_heading level0 col1\" >Item Price</th>        <th class=\"col_heading level0 col2\" >Total Purchase Value</th>    </tr>    <tr>        <th class=\"index_name level0\" >Item ID</th>        <th class=\"index_name level1\" >Item Name</th>        <th class=\"blank\" ></th>        <th class=\"blank\" ></th>        <th class=\"blank\" ></th>    </tr></thead><tbody>\n",
       "                <tr>\n",
       "                        <th id=\"T_805f5a6c_7b97_11ea_87b3_b46bfcdeb885level0_row0\" class=\"row_heading level0 row0\" >178</th>\n",
       "                        <th id=\"T_805f5a6c_7b97_11ea_87b3_b46bfcdeb885level1_row0\" class=\"row_heading level1 row0\" >Oathbreaker, Last Hope of the Breaking Storm</th>\n",
       "                        <td id=\"T_805f5a6c_7b97_11ea_87b3_b46bfcdeb885row0_col0\" class=\"data row0 col0\" >12</td>\n",
       "                        <td id=\"T_805f5a6c_7b97_11ea_87b3_b46bfcdeb885row0_col1\" class=\"data row0 col1\" >$4.23</td>\n",
       "                        <td id=\"T_805f5a6c_7b97_11ea_87b3_b46bfcdeb885row0_col2\" class=\"data row0 col2\" >$50.76</td>\n",
       "            </tr>\n",
       "            <tr>\n",
       "                        <th id=\"T_805f5a6c_7b97_11ea_87b3_b46bfcdeb885level0_row1\" class=\"row_heading level0 row1\" >82</th>\n",
       "                        <th id=\"T_805f5a6c_7b97_11ea_87b3_b46bfcdeb885level1_row1\" class=\"row_heading level1 row1\" >Nirvana</th>\n",
       "                        <td id=\"T_805f5a6c_7b97_11ea_87b3_b46bfcdeb885row1_col0\" class=\"data row1 col0\" >9</td>\n",
       "                        <td id=\"T_805f5a6c_7b97_11ea_87b3_b46bfcdeb885row1_col1\" class=\"data row1 col1\" >$4.90</td>\n",
       "                        <td id=\"T_805f5a6c_7b97_11ea_87b3_b46bfcdeb885row1_col2\" class=\"data row1 col2\" >$44.10</td>\n",
       "            </tr>\n",
       "            <tr>\n",
       "                        <th id=\"T_805f5a6c_7b97_11ea_87b3_b46bfcdeb885level0_row2\" class=\"row_heading level0 row2\" >145</th>\n",
       "                        <th id=\"T_805f5a6c_7b97_11ea_87b3_b46bfcdeb885level1_row2\" class=\"row_heading level1 row2\" >Fiery Glass Crusader</th>\n",
       "                        <td id=\"T_805f5a6c_7b97_11ea_87b3_b46bfcdeb885row2_col0\" class=\"data row2 col0\" >9</td>\n",
       "                        <td id=\"T_805f5a6c_7b97_11ea_87b3_b46bfcdeb885row2_col1\" class=\"data row2 col1\" >$4.58</td>\n",
       "                        <td id=\"T_805f5a6c_7b97_11ea_87b3_b46bfcdeb885row2_col2\" class=\"data row2 col2\" >$41.22</td>\n",
       "            </tr>\n",
       "            <tr>\n",
       "                        <th id=\"T_805f5a6c_7b97_11ea_87b3_b46bfcdeb885level0_row3\" class=\"row_heading level0 row3\" >92</th>\n",
       "                        <th id=\"T_805f5a6c_7b97_11ea_87b3_b46bfcdeb885level1_row3\" class=\"row_heading level1 row3\" >Final Critic</th>\n",
       "                        <td id=\"T_805f5a6c_7b97_11ea_87b3_b46bfcdeb885row3_col0\" class=\"data row3 col0\" >8</td>\n",
       "                        <td id=\"T_805f5a6c_7b97_11ea_87b3_b46bfcdeb885row3_col1\" class=\"data row3 col1\" >$4.88</td>\n",
       "                        <td id=\"T_805f5a6c_7b97_11ea_87b3_b46bfcdeb885row3_col2\" class=\"data row3 col2\" >$39.04</td>\n",
       "            </tr>\n",
       "            <tr>\n",
       "                        <th id=\"T_805f5a6c_7b97_11ea_87b3_b46bfcdeb885level0_row4\" class=\"row_heading level0 row4\" >103</th>\n",
       "                        <th id=\"T_805f5a6c_7b97_11ea_87b3_b46bfcdeb885level1_row4\" class=\"row_heading level1 row4\" >Singed Scalpel</th>\n",
       "                        <td id=\"T_805f5a6c_7b97_11ea_87b3_b46bfcdeb885row4_col0\" class=\"data row4 col0\" >8</td>\n",
       "                        <td id=\"T_805f5a6c_7b97_11ea_87b3_b46bfcdeb885row4_col1\" class=\"data row4 col1\" >$4.35</td>\n",
       "                        <td id=\"T_805f5a6c_7b97_11ea_87b3_b46bfcdeb885row4_col2\" class=\"data row4 col2\" >$34.80</td>\n",
       "            </tr>\n",
       "    </tbody></table>"
      ],
      "text/plain": [
       "<pandas.io.formats.style.Styler at 0x287be44c548>"
      ]
     },
     "execution_count": 17,
     "metadata": {},
     "output_type": "execute_result"
    }
   ],
   "source": [
    "# Identify the 5 most profitable items by total purchase value, then list (in a table):\n",
    "\n",
    "# Create a summary data frame to hold the results\n",
    "items_summary2 = pd.DataFrame({\n",
    "    \"Purchase Count\": item_count_by_ID, \n",
    "    \"Item Price\": item_price.map(\"${:,.2f}\".format),\n",
    "    \"Total Purchase Value\": total_purchase_value\n",
    "})\n",
    "# Display a preview of the summary data frame, with purchase count in descending order\n",
    "items_summary2 = items_summary2.sort_values('Total Purchase Value', ascending= False)\n",
    "items_summary2[\"Total Purchase Value\"]= items_summary2[\"Total Purchase Value\"].map(\"${:,.2f}\".format)\n",
    "items_summary2.head().style.set_table_styles([{'selector':'','props':[('border','4px solid #7a7')]}])\n"
   ]
  },
  {
   "cell_type": "code",
   "execution_count": null,
   "metadata": {},
   "outputs": [],
   "source": []
  }
 ],
 "metadata": {
  "kernelspec": {
   "display_name": "Python 3",
   "language": "python",
   "name": "python3"
  },
  "language_info": {
   "codemirror_mode": {
    "name": "ipython",
    "version": 3
   },
   "file_extension": ".py",
   "mimetype": "text/x-python",
   "name": "python",
   "nbconvert_exporter": "python",
   "pygments_lexer": "ipython3",
   "version": "3.7.7"
  },
  "varInspector": {
   "cols": {
    "lenName": 16,
    "lenType": 16,
    "lenVar": 40
   },
   "kernels_config": {
    "python": {
     "delete_cmd_postfix": "",
     "delete_cmd_prefix": "del ",
     "library": "var_list.py",
     "varRefreshCmd": "print(var_dic_list())"
    },
    "r": {
     "delete_cmd_postfix": ") ",
     "delete_cmd_prefix": "rm(",
     "library": "var_list.r",
     "varRefreshCmd": "cat(var_dic_list()) "
    }
   },
   "types_to_exclude": [
    "module",
    "function",
    "builtin_function_or_method",
    "instance",
    "_Feature"
   ],
   "window_display": false
  }
 },
 "nbformat": 4,
 "nbformat_minor": 4
}
